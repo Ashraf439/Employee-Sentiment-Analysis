{
 "cells": [
  {
   "cell_type": "markdown",
   "id": "7f5823d7",
   "metadata": {},
   "source": [
    "# Employee Sentiment Analysis - All Tasks in One Notebook\n",
    "\n",
    "This notebook covers:\n",
    "1. Sentiment Labeling\n",
    "2. Exploratory Data Analysis (EDA)\n",
    "3. Employee Score Calculation\n",
    "4. Employee Ranking\n",
    "5. Flight Risk Identification\n",
    "6. Predictive Modeling\n",
    "\n",
    "---"
   ]
  },
  {
   "cell_type": "code",
   "execution_count": null,
   "id": "2ddef88d",
   "metadata": {},
   "outputs": [],
   "source": [
    "import pandas as pd\n",
    "import numpy as np\n",
    "import matplotlib.pyplot as plt\n",
    "import seaborn as sns\n",
    "from sklearn.linear_model import LinearRegression\n",
    "from sklearn.model_selection import train_test_split\n",
    "from sklearn.metrics import mean_squared_error, r2_score\n",
    "import nltk\n",
    "from nltk.sentiment.vader import SentimentIntensityAnalyzer\n",
    "import os\n",
    "\n",
    "nltk.download('vader_lexicon')\n",
    "\n",
    "# Ensure outputs directory exists\n",
    "os.makedirs('outputs', exist_ok=True)"
   ]
  },
  {
   "cell_type": "code",
   "execution_count": null,
   "id": "d16c12dd",
   "metadata": {},
   "outputs": [],
   "source": [
    "df = pd.read_csv('data\\employee.csv')\n",
    "df.head()"
   ]
  },
  {
   "cell_type": "code",
   "execution_count": null,
   "id": "6e94e143",
   "metadata": {},
   "outputs": [
    {
     "name": "stderr",
     "output_type": "stream",
     "text": [
      "<>:13: SyntaxWarning: invalid escape sequence '\\E'\n",
      "<>:13: SyntaxWarning: invalid escape sequence '\\E'\n",
      "C:\\Users\\ashra\\AppData\\Local\\Temp\\ipykernel_20120\\2873156323.py:13: SyntaxWarning: invalid escape sequence '\\E'\n",
      "  df.to_csv('D:\\Employee Sentiment Analysis\\outputs\\employee_with_sentiment.csv', index=False)\n"
     ]
    },
    {
     "data": {
      "text/html": [
       "<div>\n",
       "<style scoped>\n",
       "    .dataframe tbody tr th:only-of-type {\n",
       "        vertical-align: middle;\n",
       "    }\n",
       "\n",
       "    .dataframe tbody tr th {\n",
       "        vertical-align: top;\n",
       "    }\n",
       "\n",
       "    .dataframe thead th {\n",
       "        text-align: right;\n",
       "    }\n",
       "</style>\n",
       "<table border=\"1\" class=\"dataframe\">\n",
       "  <thead>\n",
       "    <tr style=\"text-align: right;\">\n",
       "      <th></th>\n",
       "      <th>body</th>\n",
       "      <th>sentiment</th>\n",
       "    </tr>\n",
       "  </thead>\n",
       "  <tbody>\n",
       "    <tr>\n",
       "      <th>0</th>\n",
       "      <td>EnronOptions Announcement\\n\\n\\nWe have updated...</td>\n",
       "      <td>Positive</td>\n",
       "    </tr>\n",
       "    <tr>\n",
       "      <th>1</th>\n",
       "      <td>Marc,\\n\\nUnfortunately, today is not going to ...</td>\n",
       "      <td>Positive</td>\n",
       "    </tr>\n",
       "    <tr>\n",
       "      <th>2</th>\n",
       "      <td>When: Wednesday, June 06, 2001 10:00 AM-11:00 ...</td>\n",
       "      <td>Neutral</td>\n",
       "    </tr>\n",
       "    <tr>\n",
       "      <th>3</th>\n",
       "      <td>we were thinking papasitos (we can meet somewh...</td>\n",
       "      <td>Neutral</td>\n",
       "    </tr>\n",
       "    <tr>\n",
       "      <th>4</th>\n",
       "      <td>Since you never gave me the $20 for the last t...</td>\n",
       "      <td>Positive</td>\n",
       "    </tr>\n",
       "  </tbody>\n",
       "</table>\n",
       "</div>"
      ],
      "text/plain": [
       "                                                body sentiment\n",
       "0  EnronOptions Announcement\\n\\n\\nWe have updated...  Positive\n",
       "1  Marc,\\n\\nUnfortunately, today is not going to ...  Positive\n",
       "2  When: Wednesday, June 06, 2001 10:00 AM-11:00 ...   Neutral\n",
       "3  we were thinking papasitos (we can meet somewh...   Neutral\n",
       "4  Since you never gave me the $20 for the last t...  Positive"
      ]
     },
     "execution_count": 7,
     "metadata": {},
     "output_type": "execute_result"
    }
   ],
   "source": [
    "def vader_sentiment_label(text):\n",
    "    sid = SentimentIntensityAnalyzer()\n",
    "    score = sid.polarity_scores(str(text))['compound']\n",
    "    if score >= 0.05:\n",
    "        return 'Positive'\n",
    "    elif score <= -0.05:\n",
    "        return 'Negative'\n",
    "    else:\n",
    "        return 'Neutral'\n",
    "\n",
    "# If your message column is named differently, adjust below\n",
    "df['sentiment'] = df['body'].apply(vader_sentiment_label)\n",
    "df.to_csv('employee_with_sentiment.csv', index=False)\n",
    "df[['body', 'sentiment']].head()"
   ]
  },
  {
   "cell_type": "markdown",
   "id": "7474c193",
   "metadata": {},
   "source": [
    "### Exploratory Data Analysis (EDA)"
   ]
  },
  {
   "cell_type": "code",
   "execution_count": 8,
   "id": "d47bf6e2",
   "metadata": {},
   "outputs": [
    {
     "name": "stdout",
     "output_type": "stream",
     "text": [
      "Data Info:\n",
      "<class 'pandas.core.frame.DataFrame'>\n",
      "RangeIndex: 2191 entries, 0 to 2190\n",
      "Data columns (total 5 columns):\n",
      " #   Column     Non-Null Count  Dtype \n",
      "---  ------     --------------  ----- \n",
      " 0   Subject    2191 non-null   object\n",
      " 1   body       2191 non-null   object\n",
      " 2   date       2191 non-null   object\n",
      " 3   from       2191 non-null   object\n",
      " 4   sentiment  2191 non-null   object\n",
      "dtypes: object(5)\n",
      "memory usage: 85.7+ KB\n",
      "None\n",
      "\n",
      "Missing Values:\n",
      " Subject      0\n",
      "body         0\n",
      "date         0\n",
      "from         0\n",
      "sentiment    0\n",
      "dtype: int64\n",
      "\n",
      "Sample Data:\n",
      "                                         Subject  \\\n",
      "0                          EnronOptions Update!   \n",
      "1                                  (No Subject)   \n",
      "2  Phone Screen  Interview - Shannon L. Burnham   \n",
      "3                         RE: My new work email   \n",
      "4                                           Bet   \n",
      "\n",
      "                                                body        date  \\\n",
      "0  EnronOptions Announcement\\n\\n\\nWe have updated...  2010-05-10   \n",
      "1  Marc,\\n\\nUnfortunately, today is not going to ...  2010-07-29   \n",
      "2  When: Wednesday, June 06, 2001 10:00 AM-11:00 ...  2011-07-25   \n",
      "3  we were thinking papasitos (we can meet somewh...  2010-03-25   \n",
      "4  Since you never gave me the $20 for the last t...  2011-05-21   \n",
      "\n",
      "                      from sentiment  \n",
      "0     sally.beck@enron.com  Positive  \n",
      "1      eric.bass@enron.com  Positive  \n",
      "2     sally.beck@enron.com   Neutral  \n",
      "3  johnny.palmer@enron.com   Neutral  \n",
      "4  lydia.delgado@enron.com  Positive  \n"
     ]
    }
   ],
   "source": [
    "# --- Task 2 - Exploratory Data Analysis (EDA) ---\n",
    "\n",
    "print(\"Data Info:\")\n",
    "print(df.info())\n",
    "print(\"\\nMissing Values:\\n\", df.isnull().sum())\n",
    "print(\"\\nSample Data:\\n\", df.head())"
   ]
  },
  {
   "cell_type": "code",
   "execution_count": null,
   "id": "37ef3766",
   "metadata": {},
   "outputs": [
    {
     "name": "stderr",
     "output_type": "stream",
     "text": [
      "<>:5: SyntaxWarning: invalid escape sequence '\\E'\n",
      "<>:5: SyntaxWarning: invalid escape sequence '\\E'\n",
      "C:\\Users\\ashra\\AppData\\Local\\Temp\\ipykernel_20120\\1636399430.py:5: SyntaxWarning: invalid escape sequence '\\E'\n",
      "  plt.savefig('D:\\Employee Sentiment Analysis\\outputs\\sentiment_distribution.png')\n"
     ]
    },
    {
     "data": {
      "image/png": "[encoded data removed]",
      "text/plain": [
       "<Figure size 600x400 with 1 Axes>"
      ]
     },
     "metadata": {},
     "output_type": "display_data"
    }
   ],
   "source": [
    "# Sentiment distribution\n",
    "plt.figure(figsize=(6,4))\n",
    "sns.countplot(x='sentiment', data=df, order=['Positive', 'Neutral', 'Negative'])\n",
    "plt.title('Sentiment Distribution')\n",
    "plt.savefig('outputs\\sentiment_distribution.png')\n",
    "plt.show()"
   ]
  },
  {
   "cell_type": "code",
   "execution_count": 10,
   "id": "ad1947f1",
   "metadata": {},
   "outputs": [],
   "source": [
    "# Convert date to datetime\n",
    "df['date'] = pd.to_datetime(df['date'])\n",
    "df['month'] = df['date'].dt.to_period('M')\n"
   ]
  },
  {
   "cell_type": "code",
   "execution_count": null,
   "id": "a59e978f",
   "metadata": {},
   "outputs": [
    {
     "name": "stderr",
     "output_type": "stream",
     "text": [
      "<>:6: SyntaxWarning: invalid escape sequence '\\E'\n",
      "<>:6: SyntaxWarning: invalid escape sequence '\\E'\n",
      "C:\\Users\\ashra\\AppData\\Local\\Temp\\ipykernel_20120\\2085825591.py:6: SyntaxWarning: invalid escape sequence '\\E'\n",
      "  plt.savefig('D:\\Employee Sentiment Analysis\\outputs\\monthly_sentiment_trends.png')\n"
     ]
    },
    {
     "data": {
      "image/png": "[encoded data removed]",
      "text/plain": [
       "<Figure size 1000x600 with 1 Axes>"
      ]
     },
     "metadata": {},
     "output_type": "display_data"
    }
   ],
   "source": [
    "# Sentiment over time (monthly)\n",
    "monthly_sentiment = df.groupby(['month', 'sentiment']).size().unstack(fill_value=0)\n",
    "monthly_sentiment.plot(kind='bar', stacked=True, figsize=(10,6))\n",
    "plt.title('Monthly Sentiment Trends')\n",
    "plt.ylabel('Message Count')\n",
    "plt.savefig('outputs\\monthly_sentiment_trends.png')\n",
    "plt.show()"
   ]
  },
  {
   "cell_type": "code",
   "execution_count": null,
   "id": "56b13d43",
   "metadata": {},
   "outputs": [
    {
     "name": "stderr",
     "output_type": "stream",
     "text": [
      "<>:8: SyntaxWarning: invalid escape sequence '\\E'\n",
      "<>:8: SyntaxWarning: invalid escape sequence '\\E'\n",
      "C:\\Users\\ashra\\AppData\\Local\\Temp\\ipykernel_20120\\1018529586.py:8: SyntaxWarning: invalid escape sequence '\\E'\n",
      "  plt.savefig('D:\\Employee Sentiment Analysis\\outputs\\messages_per_employee.png')\n"
     ]
    },
    {
     "data": {
      "image/png": "[encoded data removed]",
      "text/plain": [
       "<Figure size 800x400 with 1 Axes>"
      ]
     },
     "metadata": {},
     "output_type": "display_data"
    }
   ],
   "source": [
    "# Messages per employee\n",
    "employee_msg_count = df['from'].value_counts()\n",
    "plt.figure(figsize=(8,4))\n",
    "sns.histplot(employee_msg_count, bins=20, kde=True)\n",
    "plt.title('Messages per Employee Distribution')\n",
    "plt.xlabel('Number of Messages')\n",
    "plt.ylabel('Number of Employees')\n",
    "plt.savefig('outputs\\messages_per_employee.png')\n",
    "plt.show()"
   ]
  },
  {
   "cell_type": "code",
   "execution_count": null,
   "id": "c6a08f1a",
   "metadata": {},
   "outputs": [
    {
     "data": {
      "text/plain": [
       "sentiment\n",
       "Negative    254.671053\n",
       "Neutral     119.771037\n",
       "Positive    308.099476\n",
       "Name: msg_length, dtype: float64"
      ]
     },
     "execution_count": 15,
     "metadata": {},
     "output_type": "execute_result"
    }
   ],
   "source": [
    "# Average message length by sentiment\n",
    "df['msg_length'] = df['body'].astype(str).apply(len)\n",
    "avg_length = df.groupby('sentiment')['msg_length'].mean()\n",
    "avg_length.to_csv('outputs\\\\avg_msg_length_by_sentiment.csv')\n",
    "avg_length"
   ]
  },
  {
   "cell_type": "markdown",
   "id": "db6043b6",
   "metadata": {},
   "source": [
    "### Employee Score Calculation"
   ]
  },
  {
   "cell_type": "code",
   "execution_count": null,
   "id": "285dec08",
   "metadata": {},
   "outputs": [
    {
     "name": "stderr",
     "output_type": "stream",
     "text": [
      "<>:7: SyntaxWarning: invalid escape sequence '\\E'\n",
      "<>:7: SyntaxWarning: invalid escape sequence '\\E'\n",
      "C:\\Users\\ashra\\AppData\\Local\\Temp\\ipykernel_20120\\301373438.py:7: SyntaxWarning: invalid escape sequence '\\E'\n",
      "  monthly_scores.to_csv('D:\\Employee Sentiment Analysis\\outputs\\employee_monthly_scores.csv', index=False)\n"
     ]
    },
    {
     "data": {
      "text/html": [
       "<div>\n",
       "<style scoped>\n",
       "    .dataframe tbody tr th:only-of-type {\n",
       "        vertical-align: middle;\n",
       "    }\n",
       "\n",
       "    .dataframe tbody tr th {\n",
       "        vertical-align: top;\n",
       "    }\n",
       "\n",
       "    .dataframe thead th {\n",
       "        text-align: right;\n",
       "    }\n",
       "</style>\n",
       "<table border=\"1\" class=\"dataframe\">\n",
       "  <thead>\n",
       "    <tr style=\"text-align: right;\">\n",
       "      <th></th>\n",
       "      <th>employee</th>\n",
       "      <th>month</th>\n",
       "      <th>monthly_score</th>\n",
       "    </tr>\n",
       "  </thead>\n",
       "  <tbody>\n",
       "    <tr>\n",
       "      <th>0</th>\n",
       "      <td>bobette.riner@ipgdirect.com</td>\n",
       "      <td>2010-01</td>\n",
       "      <td>1</td>\n",
       "    </tr>\n",
       "    <tr>\n",
       "      <th>1</th>\n",
       "      <td>bobette.riner@ipgdirect.com</td>\n",
       "      <td>2010-02</td>\n",
       "      <td>7</td>\n",
       "    </tr>\n",
       "    <tr>\n",
       "      <th>2</th>\n",
       "      <td>bobette.riner@ipgdirect.com</td>\n",
       "      <td>2010-03</td>\n",
       "      <td>6</td>\n",
       "    </tr>\n",
       "    <tr>\n",
       "      <th>3</th>\n",
       "      <td>bobette.riner@ipgdirect.com</td>\n",
       "      <td>2010-04</td>\n",
       "      <td>3</td>\n",
       "    </tr>\n",
       "    <tr>\n",
       "      <th>4</th>\n",
       "      <td>bobette.riner@ipgdirect.com</td>\n",
       "      <td>2010-05</td>\n",
       "      <td>2</td>\n",
       "    </tr>\n",
       "  </tbody>\n",
       "</table>\n",
       "</div>"
      ],
      "text/plain": [
       "                      employee    month  monthly_score\n",
       "0  bobette.riner@ipgdirect.com  2010-01              1\n",
       "1  bobette.riner@ipgdirect.com  2010-02              7\n",
       "2  bobette.riner@ipgdirect.com  2010-03              6\n",
       "3  bobette.riner@ipgdirect.com  2010-04              3\n",
       "4  bobette.riner@ipgdirect.com  2010-05              2"
      ]
     },
     "execution_count": 17,
     "metadata": {},
     "output_type": "execute_result"
    }
   ],
   "source": [
    "# --- Task 3 - Employee Score Calculation ---\n",
    "\n",
    "score_map = {'Positive': 1, 'Negative': -1, 'Neutral': 0}\n",
    "df['sentiment_score'] = df['sentiment'].map(score_map)\n",
    "monthly_scores = df.groupby(['from', 'month'])['sentiment_score'].sum().reset_index()\n",
    "monthly_scores.rename(columns={'from': 'employee', 'sentiment_score': 'monthly_score'}, inplace=True)\n",
    "monthly_scores.to_csv('outputs\\employee_monthly_scores.csv', index=False)\n",
    "monthly_scores.head()"
   ]
  },
  {
   "cell_type": "markdown",
   "id": "63b6e627",
   "metadata": {},
   "source": [
    "### Employee Ranking"
   ]
  },
  {
   "cell_type": "code",
   "execution_count": null,
   "id": "5c29c950",
   "metadata": {},
   "outputs": [
    {
     "name": "stderr",
     "output_type": "stream",
     "text": [
      "<>:15: SyntaxWarning: invalid escape sequence '\\E'\n",
      "<>:15: SyntaxWarning: invalid escape sequence '\\E'\n",
      "C:\\Users\\ashra\\AppData\\Local\\Temp\\ipykernel_20120\\249909601.py:15: SyntaxWarning: invalid escape sequence '\\E'\n",
      "  rankings_df.to_csv('D:\\Employee Sentiment Analysis\\outputs\\employee_monthly_rankings.csv', index=False)\n"
     ]
    },
    {
     "data": {
      "text/html": [
       "<div>\n",
       "<style scoped>\n",
       "    .dataframe tbody tr th:only-of-type {\n",
       "        vertical-align: middle;\n",
       "    }\n",
       "\n",
       "    .dataframe tbody tr th {\n",
       "        vertical-align: top;\n",
       "    }\n",
       "\n",
       "    .dataframe thead th {\n",
       "        text-align: right;\n",
       "    }\n",
       "</style>\n",
       "<table border=\"1\" class=\"dataframe\">\n",
       "  <thead>\n",
       "    <tr style=\"text-align: right;\">\n",
       "      <th></th>\n",
       "      <th>employee</th>\n",
       "      <th>month</th>\n",
       "      <th>monthly_score</th>\n",
       "      <th>rank_type</th>\n",
       "    </tr>\n",
       "  </thead>\n",
       "  <tbody>\n",
       "    <tr>\n",
       "      <th>120</th>\n",
       "      <td>kayne.coulter@enron.com</td>\n",
       "      <td>2010-01</td>\n",
       "      <td>13</td>\n",
       "      <td>Top Positive</td>\n",
       "    </tr>\n",
       "    <tr>\n",
       "      <th>48</th>\n",
       "      <td>eric.bass@enron.com</td>\n",
       "      <td>2010-01</td>\n",
       "      <td>9</td>\n",
       "      <td>Top Positive</td>\n",
       "    </tr>\n",
       "    <tr>\n",
       "      <th>144</th>\n",
       "      <td>lydia.delgado@enron.com</td>\n",
       "      <td>2010-01</td>\n",
       "      <td>9</td>\n",
       "      <td>Top Positive</td>\n",
       "    </tr>\n",
       "    <tr>\n",
       "      <th>0</th>\n",
       "      <td>bobette.riner@ipgdirect.com</td>\n",
       "      <td>2010-01</td>\n",
       "      <td>1</td>\n",
       "      <td>Top Negative</td>\n",
       "    </tr>\n",
       "    <tr>\n",
       "      <th>96</th>\n",
       "      <td>johnny.palmer@enron.com</td>\n",
       "      <td>2010-01</td>\n",
       "      <td>1</td>\n",
       "      <td>Top Negative</td>\n",
       "    </tr>\n",
       "    <tr>\n",
       "      <th>...</th>\n",
       "      <td>...</td>\n",
       "      <td>...</td>\n",
       "      <td>...</td>\n",
       "      <td>...</td>\n",
       "    </tr>\n",
       "    <tr>\n",
       "      <th>191</th>\n",
       "      <td>patti.thompson@enron.com</td>\n",
       "      <td>2011-12</td>\n",
       "      <td>12</td>\n",
       "      <td>Top Positive</td>\n",
       "    </tr>\n",
       "    <tr>\n",
       "      <th>167</th>\n",
       "      <td>lydia.delgado@enron.com</td>\n",
       "      <td>2011-12</td>\n",
       "      <td>10</td>\n",
       "      <td>Top Positive</td>\n",
       "    </tr>\n",
       "    <tr>\n",
       "      <th>119</th>\n",
       "      <td>johnny.palmer@enron.com</td>\n",
       "      <td>2011-12</td>\n",
       "      <td>2</td>\n",
       "      <td>Top Negative</td>\n",
       "    </tr>\n",
       "    <tr>\n",
       "      <th>23</th>\n",
       "      <td>bobette.riner@ipgdirect.com</td>\n",
       "      <td>2011-12</td>\n",
       "      <td>3</td>\n",
       "      <td>Top Negative</td>\n",
       "    </tr>\n",
       "    <tr>\n",
       "      <th>95</th>\n",
       "      <td>john.arnold@enron.com</td>\n",
       "      <td>2011-12</td>\n",
       "      <td>4</td>\n",
       "      <td>Top Negative</td>\n",
       "    </tr>\n",
       "  </tbody>\n",
       "</table>\n",
       "<p>144 rows × 4 columns</p>\n",
       "</div>"
      ],
      "text/plain": [
       "                        employee    month  monthly_score     rank_type\n",
       "120      kayne.coulter@enron.com  2010-01             13  Top Positive\n",
       "48           eric.bass@enron.com  2010-01              9  Top Positive\n",
       "144      lydia.delgado@enron.com  2010-01              9  Top Positive\n",
       "0    bobette.riner@ipgdirect.com  2010-01              1  Top Negative\n",
       "96       johnny.palmer@enron.com  2010-01              1  Top Negative\n",
       "..                           ...      ...            ...           ...\n",
       "191     patti.thompson@enron.com  2011-12             12  Top Positive\n",
       "167      lydia.delgado@enron.com  2011-12             10  Top Positive\n",
       "119      johnny.palmer@enron.com  2011-12              2  Top Negative\n",
       "23   bobette.riner@ipgdirect.com  2011-12              3  Top Negative\n",
       "95         john.arnold@enron.com  2011-12              4  Top Negative\n",
       "\n",
       "[144 rows x 4 columns]"
      ]
     },
     "execution_count": 18,
     "metadata": {},
     "output_type": "execute_result"
    }
   ],
   "source": [
    "# --- Task 4 - Employee Ranking ---\n",
    "\n",
    "rankings = []\n",
    "for month in monthly_scores['month'].unique():\n",
    "    month_scores = monthly_scores[monthly_scores['month'] == month]\n",
    "    # Top 3 positive\n",
    "    top_pos = month_scores.sort_values(['monthly_score', 'employee'], ascending=[False, True]).head(3)\n",
    "    top_pos['rank_type'] = 'Top Positive'\n",
    "    # Top 3 negative\n",
    "    top_neg = month_scores.sort_values(['monthly_score', 'employee'], ascending=[True, True]).head(3)\n",
    "    top_neg['rank_type'] = 'Top Negative'\n",
    "    rankings.append(pd.concat([top_pos, top_neg]))\n",
    "\n",
    "rankings_df = pd.concat(rankings)\n",
    "rankings_df.to_csv('outputs\\employee_monthly_rankings.csv', index=False)\n",
    "rankings_df"
   ]
  },
  {
   "cell_type": "markdown",
   "id": "4665690c",
   "metadata": {},
   "source": [
    "### Flight Risk Identification"
   ]
  },
  {
   "cell_type": "code",
   "execution_count": null,
   "id": "6d686682",
   "metadata": {},
   "outputs": [
    {
     "data": {
      "text/html": [
       "<div>\n",
       "<style scoped>\n",
       "    .dataframe tbody tr th:only-of-type {\n",
       "        vertical-align: middle;\n",
       "    }\n",
       "\n",
       "    .dataframe tbody tr th {\n",
       "        vertical-align: top;\n",
       "    }\n",
       "\n",
       "    .dataframe thead th {\n",
       "        text-align: right;\n",
       "    }\n",
       "</style>\n",
       "<table border=\"1\" class=\"dataframe\">\n",
       "  <thead>\n",
       "    <tr style=\"text-align: right;\">\n",
       "      <th></th>\n",
       "      <th>employee</th>\n",
       "    </tr>\n",
       "  </thead>\n",
       "  <tbody>\n",
       "    <tr>\n",
       "      <th>0</th>\n",
       "      <td>johnny.palmer@enron.com</td>\n",
       "    </tr>\n",
       "    <tr>\n",
       "      <th>1</th>\n",
       "      <td>bobette.riner@ipgdirect.com</td>\n",
       "    </tr>\n",
       "    <tr>\n",
       "      <th>2</th>\n",
       "      <td>sally.beck@enron.com</td>\n",
       "    </tr>\n",
       "    <tr>\n",
       "      <th>3</th>\n",
       "      <td>don.baughman@enron.com</td>\n",
       "    </tr>\n",
       "  </tbody>\n",
       "</table>\n",
       "</div>"
      ],
      "text/plain": [
       "                      employee\n",
       "0      johnny.palmer@enron.com\n",
       "1  bobette.riner@ipgdirect.com\n",
       "2         sally.beck@enron.com\n",
       "3       don.baughman@enron.com"
      ]
     },
     "execution_count": 20,
     "metadata": {},
     "output_type": "execute_result"
    }
   ],
   "source": [
    "# --- Task 5 - Flight Risk Identification ---\n",
    "\n",
    "flight_risk_employees = set()\n",
    "for emp_id, group in df[df['sentiment'] == 'Negative'].groupby('from'):\n",
    "    group = group.sort_values('date')\n",
    "    times = group['date'].tolist()\n",
    "    for i in range(len(times)):\n",
    "        window_start = times[i]\n",
    "        window_end = window_start + pd.Timedelta(days=30)\n",
    "        count = sum((t >= window_start) and (t < window_end) for t in times)\n",
    "        if count >= 4:\n",
    "            flight_risk_employees.add(emp_id)\n",
    "            break\n",
    "\n",
    "flight_risk_list = pd.DataFrame({'employee': list(flight_risk_employees)})\n",
    "flight_risk_list.to_csv('outputs\\\\flight_risk_employees.csv', index=False)\n",
    "flight_risk_list"
   ]
  },
  {
   "cell_type": "markdown",
   "id": "a287d6b0",
   "metadata": {},
   "source": [
    "### Predictive Modeling"
   ]
  },
  {
   "cell_type": "code",
   "execution_count": 21,
   "id": "8424bba1",
   "metadata": {},
   "outputs": [],
   "source": [
    "# --- Task 6 - Predictive Modeling ---\n",
    "\n",
    "df['word_count'] = df['body'].astype(str).apply(lambda x: len(x.split()))\n",
    "features = df.groupby(['from', 'month']).agg(\n",
    "    msg_count=('body', 'count'),\n",
    "    avg_msg_length=('msg_length', 'mean'),\n",
    "    total_word_count=('word_count', 'sum')\n",
    ").reset_index()\n",
    "\n"
   ]
  },
  {
   "cell_type": "code",
   "execution_count": 23,
   "id": "d85181ca",
   "metadata": {},
   "outputs": [],
   "source": [
    "# Map sentiment to score first\n",
    "df['sentiment_score'] = df['sentiment'].map({'Positive':1, 'Negative':-1, 'Neutral':0})\n",
    "\n",
    "# Then group and sum\n",
    "monthly_scores = df.groupby(['from', 'month'])['sentiment_score'].sum().reset_index()\n",
    "monthly_scores.rename(columns={'from': 'employee', 'sentiment_score': 'monthly_score'}, inplace=True)"
   ]
  },
  {
   "cell_type": "code",
   "execution_count": 24,
   "id": "ef63c3f2",
   "metadata": {},
   "outputs": [],
   "source": [
    "data = pd.merge(features, monthly_scores, left_on=['from', 'month'], right_on=['employee', 'month'])"
   ]
  },
  {
   "cell_type": "code",
   "execution_count": 25,
   "id": "acaaf7c6",
   "metadata": {},
   "outputs": [],
   "source": [
    "X = data[['msg_count', 'avg_msg_length', 'total_word_count']]\n",
    "y = data['monthly_score']"
   ]
  },
  {
   "cell_type": "code",
   "execution_count": 26,
   "id": "3f7d8c45",
   "metadata": {},
   "outputs": [],
   "source": [
    "X_train, X_test, y_train, y_test = train_test_split(X, y, test_size=0.2, random_state=42)\n",
    "model = LinearRegression()\n",
    "model.fit(X_train, y_train)\n",
    "y_pred = model.predict(X_test)"
   ]
  },
  {
   "cell_type": "code",
   "execution_count": 28,
   "id": "dc25183a",
   "metadata": {},
   "outputs": [],
   "source": [
    "rmse = mean_squared_error(y_test, y_pred)\n",
    "r2 = r2_score(y_test, y_pred)"
   ]
  },
  {
   "cell_type": "code",
   "execution_count": 29,
   "id": "8e5c5cfd",
   "metadata": {},
   "outputs": [
    {
     "name": "stdout",
     "output_type": "stream",
     "text": [
      "Linear Regression Model Results:\n",
      "RMSE: 3.40\n",
      "R^2: 0.71\n",
      "Coefficients: {'msg_count': np.float64(0.5626185401570353), 'avg_msg_length': np.float64(0.0011424755747707434), 'total_word_count': np.float64(0.0015352494633185066)}\n",
      "Intercept: -0.22709071041349205\n"
     ]
    }
   ],
   "source": [
    "print(f\"Linear Regression Model Results:\")\n",
    "print(f\"RMSE: {rmse:.2f}\")\n",
    "print(f\"R^2: {r2:.2f}\")\n",
    "print(\"Coefficients:\", dict(zip(X.columns, model.coef_)))\n",
    "print(\"Intercept:\", model.intercept_)\n"
   ]
  },
  {
   "cell_type": "code",
   "execution_count": null,
   "id": "79a0cbd8",
   "metadata": {},
   "outputs": [
    {
     "name": "stderr",
     "output_type": "stream",
     "text": [
      "<>:2: SyntaxWarning: invalid escape sequence '\\E'\n",
      "<>:2: SyntaxWarning: invalid escape sequence '\\E'\n",
      "C:\\Users\\ashra\\AppData\\Local\\Temp\\ipykernel_20120\\1481833838.py:2: SyntaxWarning: invalid escape sequence '\\E'\n",
      "  with open('D:\\Employee Sentiment Analysis\\outputs\\linear_regression_summary.txt', 'w') as f:\n"
     ]
    }
   ],
   "source": [
    "# Save the model summary to a text file\n",
    "with open('linear_regression_summary.txt', 'w') as f:\n",
    "    f.write(f\"RMSE: {rmse:.2f}\\n\")\n",
    "    f.write(f\"R^2: {r2:.2f}\\n\")\n",
    "    f.write(f\"Coefficients: {dict(zip(X.columns, model.coef_))}\\n\")\n",
    "    f.write(f\"Intercept: {model.intercept_}\\n\")"
   ]
  }
 ],
 "metadata": {
  "kernelspec": {
   "display_name": ".venv",
   "language": "python",
   "name": "python3"
  },
  "language_info": {
   "codemirror_mode": {
    "name": "ipython",
    "version": 3
   },
   "file_extension": ".py",
   "mimetype": "text/x-python",
   "name": "python",
   "nbconvert_exporter": "python",
   "pygments_lexer": "ipython3",
   "version": "3.12.10"
  }
 },
 "nbformat": 4,
 "nbformat_minor": 5
}
